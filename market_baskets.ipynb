{
 "cells": [
  {
   "attachments": {},
   "cell_type": "markdown",
   "id": "7a04a4bd",
   "metadata": {},
   "source": [
    "### 6.1.1 Definition of Frequent Itemsets\n",
    "\n",
    "Let _s_, called the _support threshold_ if _I_ is a set of items, the _support_ for _I_ is the number of baskets for which _I_ is a subset. We say _I_ is _frequent_ if its support is _s_ or more. "
   ]
  },
  {
   "cell_type": "code",
   "execution_count": 2,
   "metadata": {},
   "outputs": [
    {
     "name": "stdout",
     "output_type": "stream",
     "text": [
      "[['cat', 'and', 'dog', 'bites'], ['yahoo', 'news', 'claims', 'a', 'cat', 'mated', 'with', 'a', 'dog', 'and', 'produced', 'viable', 'offspring']]\n"
     ]
    }
   ],
   "source": [
    "a = [\"Cat, and, dog, bites\", 'Yahoo, news, claims, a, cat, mated, with, a, dog, and, produced, viable,offspring','Cat, killer, likely, is, a, big, dog','Professional, free, advice, on, dog, training, puppy, training'\n",
    ",'Cat, and, kitten, training, and, behavior','Dog, &, Cat, provides, dog, training, in, Eugene, Oregon','Dog, and, cat”, is, a, slang, term, used, by, police, officers, for, a, male–female, relationship', 'Shop, for, your, show, dog, grooming, and, pet, supplies']\n",
    "\n",
    "words = []\n",
    "\n",
    "for sent in a:\n",
    "    words.append(sent.split(','))\n",
    "for i in range(len(words)):\n",
    "    temp = []\n",
    "    for j in range(len(words[i])):\n",
    "        temp.append(words[i][j].strip().lower())\n",
    "    words[i] = temp\n",
    "    \n",
    "print(words[0:2])"
   ]
  },
  {
   "cell_type": "code",
   "execution_count": 19,
   "id": "607e59e7",
   "metadata": {},
   "outputs": [],
   "source": [
    "# lets calculate the support for each individiual string e.g. a 'cat' \n",
    "\n",
    "word_support = {}\n",
    "\n",
    "'''\n",
    "for each subset if a word appears it gets a count and it gets incremented based on how many times this word appears in a number of subsets \n",
    "''' \n",
    "\n",
    "for ls in words:\n",
    "    for word in ls: \n",
    "        current_words = [] # stores words that we have seen in a set so we don't count them twice for support \n",
    "        if word not in word_support: \n",
    "            word_support[word] = 1 \n",
    "            current_words.append(words)\n",
    "        elif word not in current_words: \n",
    "            word_support[word] += 1 \n"
   ]
  },
  {
   "cell_type": "code",
   "execution_count": 20,
   "id": "c7659de4",
   "metadata": {},
   "outputs": [
    {
     "name": "stdout",
     "output_type": "stream",
     "text": [
      "{'cat': 5, 'and': 6, 'dog': 8, 'bites': 1, 'yahoo': 1, 'news': 1, 'claims': 1, 'a': 5, 'mated': 1, 'with': 1}\n"
     ]
    }
   ],
   "source": [
    "import itertools \n",
    "print(dict(itertools.islice(word_support.items(), 10))) # and now we have the support for the various words that we in our baskets "
   ]
  },
  {
   "cell_type": "code",
   "execution_count": 28,
   "id": "21368861",
   "metadata": {},
   "outputs": [
    {
     "name": "stdout",
     "output_type": "stream",
     "text": [
      "['cat', 'and', 'dog', 'a', 'training']\n"
     ]
    }
   ],
   "source": [
    "# now lets say that we only care about words that are above a certain support threshold\n",
    "support_threshold = 3\n",
    "frequent_singletons = [] \n",
    "for k, v in word_support.items(): \n",
    "    if (v > support_threshold):\n",
    "        frequent_singletons.append(k)\n",
    "print(frequent_singletons)"
   ]
  },
  {
   "cell_type": "code",
   "execution_count": 66,
   "id": "52fb1b67",
   "metadata": {},
   "outputs": [],
   "source": [
    "# now we want to find frequent doubletons\n",
    "doubletons = {} \n",
    "for i in range(len(frequent_singletons)): \n",
    "    for j in range(len(frequent_singletons) - i):\n",
    "        if (frequent_singletons[i], frequent_singletons[j]) not in doubletons and (frequent_singletons[j], frequent_singletons[i]) not in doubletons:\n",
    "            doubletons[(frequent_singletons[i], frequent_singletons[j])] = 0\n",
    "# removing duplicate tuples e.g. ('cat'. 'cat')\n",
    "doubletons_ls = [] \n",
    "for k in doubletons: \n",
    "    doubletons_ls.append(k)\n",
    " \n"
   ]
  },
  {
   "cell_type": "code",
   "execution_count": 68,
   "id": "7c36329d",
   "metadata": {},
   "outputs": [],
   "source": [
    "doubleton = doubletons_ls "
   ]
  },
  {
   "cell_type": "code",
   "execution_count": 70,
   "id": "02664950",
   "metadata": {},
   "outputs": [
    {
     "ename": "IndexError",
     "evalue": "list index out of range",
     "output_type": "error",
     "traceback": [
      "\u001b[0;31m---------------------------------------------------------------------------\u001b[0m",
      "\u001b[0;31mIndexError\u001b[0m                                Traceback (most recent call last)",
      "Cell \u001b[0;32mIn [70], line 2\u001b[0m\n\u001b[1;32m      1\u001b[0m \u001b[39mfor\u001b[39;00m i \u001b[39min\u001b[39;00m \u001b[39mrange\u001b[39m(\u001b[39mlen\u001b[39m(doubleton)): \n\u001b[0;32m----> 2\u001b[0m     \u001b[39mif\u001b[39;00m doubleton[i][\u001b[39m0\u001b[39m] \u001b[39m==\u001b[39m doubleton[i][\u001b[39m1\u001b[39m]: \n\u001b[1;32m      3\u001b[0m         doubleton\u001b[39m.\u001b[39mpop(i)\n",
      "\u001b[0;31mIndexError\u001b[0m: list index out of range"
     ]
    }
   ],
   "source": [
    "for i in range(len(doubleton)): \n",
    "    if doubleton[i][0] == doubleton[i][1]: \n",
    "        doubleton.pop(i)\n",
    "        "
   ]
  },
  {
   "cell_type": "code",
   "execution_count": 62,
   "id": "738dd4e8",
   "metadata": {},
   "outputs": [
    {
     "data": {
      "text/plain": [
       "True"
      ]
     },
     "execution_count": 62,
     "metadata": {},
     "output_type": "execute_result"
    }
   ],
   "source": [
    "a = ('cat', 'cat')\n",
    "a[0] == a[1]"
   ]
  },
  {
   "cell_type": "code",
   "execution_count": null,
   "id": "c33fdee7",
   "metadata": {},
   "outputs": [],
   "source": []
  }
 ],
 "metadata": {
  "kernelspec": {
   "display_name": "base",
   "language": "python",
   "name": "python3"
  },
  "language_info": {
   "codemirror_mode": {
    "name": "ipython",
    "version": 3
   },
   "file_extension": ".py",
   "mimetype": "text/x-python",
   "name": "python",
   "nbconvert_exporter": "python",
   "pygments_lexer": "ipython3",
   "version": "3.10.8"
  },
  "vscode": {
   "interpreter": {
    "hash": "49c7475afa802cdf659320c820863a127978f36b368c817ac9cb102b34b4cef7"
   }
  }
 },
 "nbformat": 4,
 "nbformat_minor": 5
}
