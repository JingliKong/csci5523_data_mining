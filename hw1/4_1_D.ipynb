{
 "cells": [
  {
   "cell_type": "code",
   "execution_count": 2,
   "metadata": {},
   "outputs": [
    {
     "name": "stderr",
     "output_type": "stream",
     "text": [
      "your 131072x1 screen size is bogus. expect trouble\n"
     ]
    },
    {
     "name": "stdout",
     "output_type": "stream",
     "text": [
      "23/02/03 12:56:10 WARN Utils: Your hostname, LAPTOP-0S5927HR resolves to a loopback address: 127.0.1.1; using 192.168.250.233 instead (on interface eth0)\n",
      "23/02/03 12:56:10 WARN Utils: Set SPARK_LOCAL_IP if you need to bind to another address\n"
     ]
    },
    {
     "name": "stderr",
     "output_type": "stream",
     "text": [
      "Setting default log level to \"WARN\".\n",
      "To adjust logging level use sc.setLogLevel(newLevel). For SparkR, use setLogLevel(newLevel).\n"
     ]
    },
    {
     "name": "stdout",
     "output_type": "stream",
     "text": [
      "23/02/03 12:56:11 WARN NativeCodeLoader: Unable to load native-hadoop library for your platform... using builtin-java classes where applicable\n",
      "23/02/03 12:56:12 WARN Utils: Service 'SparkUI' could not bind on port 4040. Attempting port 4041.\n",
      "23/02/03 12:56:12 WARN Utils: Service 'SparkUI' could not bind on port 4041. Attempting port 4042.\n"
     ]
    }
   ],
   "source": [
    "import pyspark \n",
    "import argparse \n",
    "import json \n",
    "\n",
    "# 4.1.1 D: Top m users who have the largest number of reviews and its count\n",
    "\n",
    "sc_conf = pyspark.SparkConf()\n",
    "sc_conf.setAppName('task1')  \n",
    "sc_conf.setMaster('local[*]') \n",
    "sc_conf.set('spark.driver.memory', '8g')\n",
    "sc_conf.set('spark.executor.memory', '4g')\n",
    "# sc = pyspark.SparkContext(conf=sc_conf)\n",
    "sc = pyspark.SparkContext.getOrCreate()\n",
    "sc.setLogLevel(\"OFF\")\n",
    "\n",
    "# read in the lines and create the rdd \n",
    "lines = sc.textFile(\"./data/review.json\")\n",
    "\n",
    "# loading the json into a python object \n",
    "rdd = lines.map(lambda line: json.loads(line))"
   ]
  },
  {
   "cell_type": "code",
   "execution_count": 15,
   "metadata": {},
   "outputs": [
    {
     "name": "stderr",
     "output_type": "stream",
     "text": [
      "                                                                                \r"
     ]
    },
    {
     "name": "stdout",
     "output_type": "stream",
     "text": [
      "[('CxDOIDnH8gp9KXzpBHJYXw', 715), ('bLbSNkLggFnqwNNzzq-Ijw', 424), ('PKEzKWv_FktMm2mGPjwd0Q', 322), ('DK57YibC5ShBmqQl97CKog', 291), ('ELcQDlf69kb-ihJfxZyL0A', 288), ('U4INQZOPSUaj8hMjLlZ3KA', 276), ('QJI9OSEn6ujRCtrX06vs1w', 258), ('d_TBs6J3twMy9GChqUEXkg', 253), ('hWDybu_KvYLSdEFzGrniTw', 239), ('dIIKEfOgo0KqUfGQvGikPg', 216)]\n"
     ]
    },
    {
     "name": "stderr",
     "output_type": "stream",
     "text": [
      "                                                                                \r"
     ]
    }
   ],
   "source": [
    "m = 10 \n",
    "unique_users = rdd.map(lambda x: (x['user_id'])).map(lambda user: (user, 1)).reduceByKey(lambda a, b: a+b).sortBy(lambda x: x[1], False).take(m)\n",
    "print(unique_users)\n",
    "\n"
   ]
  },
  {
   "cell_type": "code",
   "execution_count": null,
   "metadata": {},
   "outputs": [],
   "source": [
    "print(unique_users)"
   ]
  },
  {
   "cell_type": "code",
   "execution_count": 13,
   "metadata": {},
   "outputs": [
    {
     "name": "stdout",
     "output_type": "stream",
     "text": [
      "[('CxDOIDnH8gp9KXzpBHJYXw', 715), ('bLbSNkLggFnqwNNzzq-Ijw', 424), ('PKEzKWv_FktMm2mGPjwd0Q', 322), ('DK57YibC5ShBmqQl97CKog', 291), ('ELcQDlf69kb-ihJfxZyL0A', 288)]\n"
     ]
    }
   ],
   "source": [
    "sol = []\n",
    "m = 5 \n",
    "for i in range(m):\n",
    "    sol.append(unique_users[i])\n",
    "print(sol)"
   ]
  },
  {
   "cell_type": "code",
   "execution_count": null,
   "metadata": {},
   "outputs": [],
   "source": []
  },
  {
   "cell_type": "code",
   "execution_count": null,
   "metadata": {},
   "outputs": [],
   "source": []
  },
  {
   "cell_type": "code",
   "execution_count": null,
   "metadata": {},
   "outputs": [],
   "source": []
  },
  {
   "cell_type": "code",
   "execution_count": null,
   "metadata": {},
   "outputs": [],
   "source": []
  },
  {
   "cell_type": "code",
   "execution_count": null,
   "metadata": {},
   "outputs": [
    {
     "name": "stderr",
     "output_type": "stream",
     "text": [
      "                                                                                \r"
     ]
    },
    {
     "name": "stdout",
     "output_type": "stream",
     "text": [
      "[('BTxxGYdw8CNV7UZGc9YU1Q', <pyspark.resultiterable.ResultIterable object at 0x7ff4c3357940>), ('KeBt3UtPDr7GbQsHx9pJNw', <pyspark.resultiterable.ResultIterable object at 0x7ff4c33543d0>)]\n"
     ]
    }
   ],
   "source": []
  },
  {
   "cell_type": "code",
   "execution_count": null,
   "metadata": {},
   "outputs": [],
   "source": [
    "# at this point how do I aggregate the lists associated with each key \n",
    "# do I use a combineByKey() somehow? \n"
   ]
  },
  {
   "cell_type": "code",
   "execution_count": null,
   "metadata": {},
   "outputs": [
    {
     "name": "stderr",
     "output_type": "stream",
     "text": [
      "                                                                                \r"
     ]
    },
    {
     "data": {
      "text/plain": [
       "[('wLofLemhls9oQqFpc4qEQQ', (1, 'gmfckUvQZQmcPm8RGRiwOQ')),\n",
       " ('Ml5Q1rLjyUmS-Q2dQ2C4nw', (1, '-i7iRw_DI_T0wTSXsfiY8Q')),\n",
       " ('dEk9YPjigYm8_7f9H8t_EQ', (1, 'byNMn9Hf9cv_Amj2_5ydow')),\n",
       " ('b9-9XmpCefla_r-6-Dm0vg', (1, 'YvqDqcjAvCvs-H1IU7viLg'))]"
      ]
     },
     "execution_count": 115,
     "metadata": {},
     "output_type": "execute_result"
    }
   ],
   "source": [
    "# how do I then sort by the max value for the keys "
   ]
  },
  {
   "cell_type": "code",
   "execution_count": null,
   "metadata": {},
   "outputs": [
    {
     "name": "stdout",
     "output_type": "stream",
     "text": [
      "<class 'pyspark.rdd.PipelinedRDD'>\n"
     ]
    }
   ],
   "source": []
  },
  {
   "cell_type": "code",
   "execution_count": null,
   "metadata": {},
   "outputs": [],
   "source": []
  },
  {
   "cell_type": "code",
   "execution_count": null,
   "metadata": {},
   "outputs": [],
   "source": []
  },
  {
   "cell_type": "code",
   "execution_count": null,
   "metadata": {},
   "outputs": [],
   "source": []
  },
  {
   "cell_type": "code",
   "execution_count": null,
   "metadata": {},
   "outputs": [],
   "source": [
    "grouping = unique_reviews.groupByKey()"
   ]
  },
  {
   "cell_type": "code",
   "execution_count": null,
   "metadata": {},
   "outputs": [],
   "source": [
    "grouping = grouping.map(lambda x, y: (x, len(y)))\n",
    "print(type(grouping))"
   ]
  },
  {
   "cell_type": "code",
   "execution_count": null,
   "metadata": {},
   "outputs": [],
   "source": [
    "grouping.collect()"
   ]
  }
 ],
 "metadata": {
  "kernelspec": {
   "display_name": "base",
   "language": "python",
   "name": "python3"
  },
  "language_info": {
   "codemirror_mode": {
    "name": "ipython",
    "version": 3
   },
   "file_extension": ".py",
   "mimetype": "text/x-python",
   "name": "python",
   "nbconvert_exporter": "python",
   "pygments_lexer": "ipython3",
   "version": "3.10.8"
  },
  "orig_nbformat": 4,
  "vscode": {
   "interpreter": {
    "hash": "49c7475afa802cdf659320c820863a127978f36b368c817ac9cb102b34b4cef7"
   }
  }
 },
 "nbformat": 4,
 "nbformat_minor": 2
}
